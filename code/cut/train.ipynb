{
 "cells": [
  {
   "cell_type": "code",
   "execution_count": 1,
   "metadata": {},
   "outputs": [],
   "source": [
    "import os\n",
    "import numpy as np\n",
    "import pandas as pd\n",
    "from os.path import join\n",
    "from PIL import Image"
   ]
  },
  {
   "cell_type": "code",
   "execution_count": 2,
   "metadata": {},
   "outputs": [],
   "source": [
    "#分类好的图片\n",
    "cate_path = \"/Users/dqy/My/captcha/label/\""
   ]
  },
  {
   "cell_type": "code",
   "execution_count": 3,
   "metadata": {},
   "outputs": [],
   "source": [
    "def get_feature(img):\n",
    "    \"\"\"\n",
    "    获取指定图片的特征值,\n",
    "    根据像素点所形成的矩阵，每一行提取三个特征\n",
    "    分别是第n次0连续出现的个数，多余三次不计，少于三次计0\n",
    "    \n",
    "    :type img: Image\n",
    "    :return:一个维度为22的列表\n",
    "    \"\"\"\n",
    "    height = 22\n",
    "    width = 19\n",
    "    pixel = []\n",
    "    for y in range(height):\n",
    "        p = [0,0,0]\n",
    "        q = [0,0]\n",
    "        flag = 0\n",
    "        num = 0\n",
    "        for x in range(width):\n",
    "            if num < 3:\n",
    "                if img.getpixel((x, y)) == 0:\n",
    "                    p[num] +=1\n",
    "                    flag = 1\n",
    "                else:\n",
    "                    if flag == 1:\n",
    "                        num +=1\n",
    "                    flag = 0\n",
    "        pixel.append(p[0])\n",
    "        pixel.append(p[1])\n",
    "        pixel.append(p[2])\n",
    "    return pixel"
   ]
  },
  {
   "cell_type": "code",
   "execution_count": 4,
   "metadata": {},
   "outputs": [],
   "source": [
    "def get_bin_table(threshold=190):\n",
    "    \"\"\"\n",
    "    获取灰度转二值的映射table\n",
    "    :param threshold:\n",
    "    :return:\n",
    "    \"\"\"\n",
    "    table = []\n",
    "    for i in range(256):\n",
    "        if i < threshold:\n",
    "            table.append(0)\n",
    "        else:\n",
    "            table.append(1)\n",
    "\n",
    "    return table"
   ]
  },
  {
   "cell_type": "code",
   "execution_count": 5,
   "metadata": {},
   "outputs": [],
   "source": [
    "x = []\n",
    "y = []"
   ]
  },
  {
   "cell_type": "markdown",
   "metadata": {},
   "source": [
    "## 获取特征和标签"
   ]
  },
  {
   "cell_type": "code",
   "execution_count": 6,
   "metadata": {},
   "outputs": [],
   "source": [
    "for fr in os.listdir(cate_path):\n",
    "        if fr.rfind(u'.DS_Store')==-1:\n",
    "            for f in os.listdir(cate_path+fr):\n",
    "                if f.rfind(u'.DS_Store')==-1:\n",
    "                    image = Image.open(os.path.join(cate_path+fr, f))\n",
    "                    imgry = image.convert('L')\n",
    "                    table = get_bin_table()\n",
    "                    out = imgry.point(table, '1')\n",
    "                    x.append(get_feature(out)) \n",
    "                    y.append(fr)"
   ]
  },
  {
   "cell_type": "code",
   "execution_count": 7,
   "metadata": {},
   "outputs": [],
   "source": [
    "featureSet = pd.DataFrame(columns=range(len(x[0])))\n",
    "for i in range(len(x)):    \n",
    "    featureSet.loc[i] = x[i]"
   ]
  },
  {
   "cell_type": "code",
   "execution_count": 8,
   "metadata": {},
   "outputs": [
    {
     "data": {
      "text/html": [
       "<div>\n",
       "<style scoped>\n",
       "    .dataframe tbody tr th:only-of-type {\n",
       "        vertical-align: middle;\n",
       "    }\n",
       "\n",
       "    .dataframe tbody tr th {\n",
       "        vertical-align: top;\n",
       "    }\n",
       "\n",
       "    .dataframe thead th {\n",
       "        text-align: right;\n",
       "    }\n",
       "</style>\n",
       "<table border=\"1\" class=\"dataframe\">\n",
       "  <thead>\n",
       "    <tr style=\"text-align: right;\">\n",
       "      <th></th>\n",
       "      <th>0</th>\n",
       "      <th>1</th>\n",
       "      <th>2</th>\n",
       "      <th>3</th>\n",
       "      <th>4</th>\n",
       "      <th>5</th>\n",
       "      <th>6</th>\n",
       "      <th>7</th>\n",
       "      <th>8</th>\n",
       "      <th>9</th>\n",
       "      <th>...</th>\n",
       "      <th>56</th>\n",
       "      <th>57</th>\n",
       "      <th>58</th>\n",
       "      <th>59</th>\n",
       "      <th>60</th>\n",
       "      <th>61</th>\n",
       "      <th>62</th>\n",
       "      <th>63</th>\n",
       "      <th>64</th>\n",
       "      <th>65</th>\n",
       "    </tr>\n",
       "  </thead>\n",
       "  <tbody>\n",
       "    <tr>\n",
       "      <th>2916</th>\n",
       "      <td>0</td>\n",
       "      <td>0</td>\n",
       "      <td>0</td>\n",
       "      <td>0</td>\n",
       "      <td>0</td>\n",
       "      <td>0</td>\n",
       "      <td>0</td>\n",
       "      <td>0</td>\n",
       "      <td>0</td>\n",
       "      <td>0</td>\n",
       "      <td>...</td>\n",
       "      <td>0</td>\n",
       "      <td>3</td>\n",
       "      <td>3</td>\n",
       "      <td>0</td>\n",
       "      <td>3</td>\n",
       "      <td>3</td>\n",
       "      <td>0</td>\n",
       "      <td>0</td>\n",
       "      <td>0</td>\n",
       "      <td>0</td>\n",
       "    </tr>\n",
       "    <tr>\n",
       "      <th>2917</th>\n",
       "      <td>0</td>\n",
       "      <td>0</td>\n",
       "      <td>0</td>\n",
       "      <td>1</td>\n",
       "      <td>0</td>\n",
       "      <td>0</td>\n",
       "      <td>1</td>\n",
       "      <td>0</td>\n",
       "      <td>0</td>\n",
       "      <td>5</td>\n",
       "      <td>...</td>\n",
       "      <td>0</td>\n",
       "      <td>7</td>\n",
       "      <td>6</td>\n",
       "      <td>0</td>\n",
       "      <td>7</td>\n",
       "      <td>6</td>\n",
       "      <td>0</td>\n",
       "      <td>6</td>\n",
       "      <td>6</td>\n",
       "      <td>0</td>\n",
       "    </tr>\n",
       "    <tr>\n",
       "      <th>2918</th>\n",
       "      <td>0</td>\n",
       "      <td>0</td>\n",
       "      <td>0</td>\n",
       "      <td>4</td>\n",
       "      <td>5</td>\n",
       "      <td>0</td>\n",
       "      <td>2</td>\n",
       "      <td>2</td>\n",
       "      <td>0</td>\n",
       "      <td>2</td>\n",
       "      <td>...</td>\n",
       "      <td>0</td>\n",
       "      <td>0</td>\n",
       "      <td>0</td>\n",
       "      <td>0</td>\n",
       "      <td>0</td>\n",
       "      <td>0</td>\n",
       "      <td>0</td>\n",
       "      <td>1</td>\n",
       "      <td>0</td>\n",
       "      <td>0</td>\n",
       "    </tr>\n",
       "    <tr>\n",
       "      <th>2919</th>\n",
       "      <td>0</td>\n",
       "      <td>0</td>\n",
       "      <td>0</td>\n",
       "      <td>0</td>\n",
       "      <td>0</td>\n",
       "      <td>0</td>\n",
       "      <td>1</td>\n",
       "      <td>1</td>\n",
       "      <td>0</td>\n",
       "      <td>5</td>\n",
       "      <td>...</td>\n",
       "      <td>0</td>\n",
       "      <td>0</td>\n",
       "      <td>0</td>\n",
       "      <td>0</td>\n",
       "      <td>0</td>\n",
       "      <td>0</td>\n",
       "      <td>0</td>\n",
       "      <td>0</td>\n",
       "      <td>0</td>\n",
       "      <td>0</td>\n",
       "    </tr>\n",
       "    <tr>\n",
       "      <th>2920</th>\n",
       "      <td>0</td>\n",
       "      <td>0</td>\n",
       "      <td>0</td>\n",
       "      <td>6</td>\n",
       "      <td>6</td>\n",
       "      <td>0</td>\n",
       "      <td>6</td>\n",
       "      <td>6</td>\n",
       "      <td>0</td>\n",
       "      <td>3</td>\n",
       "      <td>...</td>\n",
       "      <td>0</td>\n",
       "      <td>0</td>\n",
       "      <td>0</td>\n",
       "      <td>0</td>\n",
       "      <td>0</td>\n",
       "      <td>0</td>\n",
       "      <td>0</td>\n",
       "      <td>0</td>\n",
       "      <td>0</td>\n",
       "      <td>0</td>\n",
       "    </tr>\n",
       "  </tbody>\n",
       "</table>\n",
       "<p>5 rows × 66 columns</p>\n",
       "</div>"
      ],
      "text/plain": [
       "     0  1  2  3  4  5  6  7  8  9   ... 56 57 58 59 60 61 62 63 64 65\n",
       "2916  0  0  0  0  0  0  0  0  0  0  ...  0  3  3  0  3  3  0  0  0  0\n",
       "2917  0  0  0  1  0  0  1  0  0  5  ...  0  7  6  0  7  6  0  6  6  0\n",
       "2918  0  0  0  4  5  0  2  2  0  2  ...  0  0  0  0  0  0  0  1  0  0\n",
       "2919  0  0  0  0  0  0  1  1  0  5  ...  0  0  0  0  0  0  0  0  0  0\n",
       "2920  0  0  0  6  6  0  6  6  0  3  ...  0  0  0  0  0  0  0  0  0  0\n",
       "\n",
       "[5 rows x 66 columns]"
      ]
     },
     "execution_count": 8,
     "metadata": {},
     "output_type": "execute_result"
    }
   ],
   "source": [
    "featureSet.tail(5)"
   ]
  },
  {
   "cell_type": "code",
   "execution_count": 9,
   "metadata": {},
   "outputs": [],
   "source": [
    "from sklearn.model_selection import train_test_split\n",
    "from sklearn import svm\n",
    "import sklearn\n",
    "from sklearn.metrics import confusion_matrix"
   ]
  },
  {
   "cell_type": "markdown",
   "metadata": {},
   "source": [
    "## 训练并打印准确率和召回率"
   ]
  },
  {
   "cell_type": "code",
   "execution_count": 10,
   "metadata": {},
   "outputs": [
    {
     "name": "stdout",
     "output_type": "stream",
     "text": [
      "Accuracy rate : 0.870307\n",
      "Recall rate : 0.870767\n"
     ]
    }
   ],
   "source": [
    "X = featureSet.values\n",
    "X_train, X_test, y_train, y_test = train_test_split(X, y ,test_size=0.1)\n",
    "clf=svm.SVC(kernel='linear')\n",
    "clf.fit(X_train,y_train)\n",
    "y_pro = clf.predict(X_test)\n",
    "print(\"Accuracy rate : %f\" % (sklearn.metrics.accuracy_score(y_test, y_pro)))\n",
    "print('Recall rate : %f' % (sklearn.metrics.recall_score(y_test, y_pro,average='macro')))"
   ]
  },
  {
   "cell_type": "code",
   "execution_count": 11,
   "metadata": {},
   "outputs": [],
   "source": [
    "def get_crop_imgs(img):\n",
    "    child_img_list = []\n",
    "    for i in range(4):\n",
    "        x = i * 19 \n",
    "        y = 0\n",
    "        child_img = img.crop((x, y, x + 19, img.height))\n",
    "        child_img_list.append(child_img)\n",
    "    return child_img_list"
   ]
  },
  {
   "cell_type": "code",
   "execution_count": 12,
   "metadata": {},
   "outputs": [],
   "source": [
    "def depoint(img):   #input: gray image\n",
    "    pixdata = img.load()\n",
    "    w,h = img.size\n",
    "    for y in range(1,h-1):\n",
    "        for x in range(1,w-1):\n",
    "            count = 0\n",
    "            if pixdata[x,y-1] > 250:\n",
    "                count = count + 1\n",
    "            if pixdata[x,y+1] > 250:\n",
    "                count = count + 1\n",
    "            if pixdata[x-1,y] > 250:\n",
    "                count = count + 1\n",
    "            if pixdata[x+1,y] > 250:\n",
    "                count = count + 1\n",
    "            if count > 2:\n",
    "                pixdata[x,y] = 255\n",
    "    return img"
   ]
  },
  {
   "cell_type": "markdown",
   "metadata": {},
   "source": [
    "## 测试"
   ]
  },
  {
   "cell_type": "code",
   "execution_count": 13,
   "metadata": {},
   "outputs": [
    {
     "data": {
      "image/png": "[encoded data removed]",
      "text/plain": [
       "<PIL.PngImagePlugin.PngImageFile image mode=RGBA size=100x40 at 0x1A24B491D0>"
      ]
     },
     "execution_count": 13,
     "metadata": {},
     "output_type": "execute_result"
    }
   ],
   "source": [
    "x_pre = []\n",
    "y_pre = []\n",
    "image = Image.open(\"test.png\")\n",
    "image"
   ]
  },
  {
   "cell_type": "code",
   "execution_count": 14,
   "metadata": {},
   "outputs": [],
   "source": [
    "width, height = image.size\n",
    "image = image.crop([width/9,height/4,width*8/9,height*4/5])\n",
    "imgry = image.convert('L')\n",
    "out = depoint(imgry)\n",
    "out = imgry.point(table, '1')\n",
    "pics = get_crop_imgs(out)"
   ]
  },
  {
   "cell_type": "code",
   "execution_count": 15,
   "metadata": {},
   "outputs": [],
   "source": [
    "for i in pics:\n",
    "    x_pre.append(get_feature(i))\n",
    "result = pd.DataFrame(columns=range(len(x_pre[0])))\n",
    "for i in range(len(x_pre)):    \n",
    "    result.loc[i] = x_pre[i]\n",
    "X_pre = featureSet.values\n",
    "y_pre = clf.predict(result)"
   ]
  },
  {
   "cell_type": "code",
   "execution_count": 16,
   "metadata": {},
   "outputs": [
    {
     "data": {
      "text/plain": [
       "'JE2N'"
      ]
     },
     "execution_count": 16,
     "metadata": {},
     "output_type": "execute_result"
    }
   ],
   "source": [
    "''.join(y_pre)"
   ]
  },
  {
   "cell_type": "code",
   "execution_count": null,
   "metadata": {},
   "outputs": [],
   "source": []
  }
 ],
 "metadata": {
  "kernelspec": {
   "display_name": "Python 3",
   "language": "python",
   "name": "python3"
  },
  "language_info": {
   "codemirror_mode": {
    "name": "ipython",
    "version": 3
   },
   "file_extension": ".py",
   "mimetype": "text/x-python",
   "name": "python",
   "nbconvert_exporter": "python",
   "pygments_lexer": "ipython3",
   "version": "3.7.3"
  }
 },
 "nbformat": 4,
 "nbformat_minor": 2
}
